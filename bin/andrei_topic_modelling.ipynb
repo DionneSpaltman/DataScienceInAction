{
 "cells": [
  {
   "cell_type": "markdown",
   "metadata": {},
   "source": [
    "# Data exploration"
   ]
  },
  {
   "cell_type": "code",
   "execution_count": 2,
   "metadata": {},
   "outputs": [],
   "source": [
    "# Import libraries\n",
    "import pandas as pd\n",
    "from sklearn.feature_extraction.text import TfidfVectorizer\n",
    "from sklearn.metrics.pairwise import cosine_similarity"
   ]
  },
  {
   "cell_type": "code",
   "execution_count": 3,
   "metadata": {},
   "outputs": [],
   "source": [
    "# Load the data\n",
    "# You might need to change the path \n",
    "dionne_path = \"/Users/dionnespaltman/Desktop/Luiss /Data Science in Action/Project/openalex_papers.csv\"\n",
    "df = pd.read_csv(dionne_path)\n"
   ]
  },
  {
   "cell_type": "code",
   "execution_count": null,
   "metadata": {},
   "outputs": [
    {
     "data": {
      "text/html": [
       "<div>\n",
       "<style scoped>\n",
       "    .dataframe tbody tr th:only-of-type {\n",
       "        vertical-align: middle;\n",
       "    }\n",
       "\n",
       "    .dataframe tbody tr th {\n",
       "        vertical-align: top;\n",
       "    }\n",
       "\n",
       "    .dataframe thead th {\n",
       "        text-align: right;\n",
       "    }\n",
       "</style>\n",
       "<table border=\"1\" class=\"dataframe\">\n",
       "  <thead>\n",
       "    <tr style=\"text-align: right;\">\n",
       "      <th></th>\n",
       "      <th>id</th>\n",
       "      <th>submitter</th>\n",
       "      <th>authors</th>\n",
       "      <th>title</th>\n",
       "      <th>comments</th>\n",
       "      <th>journ_ref</th>\n",
       "      <th>doi</th>\n",
       "      <th>abstract</th>\n",
       "      <th>versions</th>\n",
       "      <th>year</th>\n",
       "      <th>journal</th>\n",
       "      <th>keywords</th>\n",
       "      <th>topics</th>\n",
       "    </tr>\n",
       "  </thead>\n",
       "  <tbody>\n",
       "    <tr>\n",
       "      <th>0</th>\n",
       "      <td>https://openalex.org/W3034272367</td>\n",
       "      <td>NaN</td>\n",
       "      <td>Ioannis Antonopoulos, Valentin Robu, Benoit Co...</td>\n",
       "      <td>Artificial intelligence and machine learning a...</td>\n",
       "      <td>NaN</td>\n",
       "      <td>NaN</td>\n",
       "      <td>https://doi.org/10.1016/j.rser.2020.109899</td>\n",
       "      <td>Recent years have seen an increasing interest ...</td>\n",
       "      <td>[]</td>\n",
       "      <td>2020</td>\n",
       "      <td>Renewable and Sustainable Energy Reviews</td>\n",
       "      <td>[]</td>\n",
       "      <td>['Smart Grid Energy Management', 'Energy Effic...</td>\n",
       "    </tr>\n",
       "    <tr>\n",
       "      <th>1</th>\n",
       "      <td>https://openalex.org/W2141042444</td>\n",
       "      <td>NaN</td>\n",
       "      <td>W. Brian Arthur</td>\n",
       "      <td>The Economy as an Evolving Complex System II</td>\n",
       "      <td>NaN</td>\n",
       "      <td>NaN</td>\n",
       "      <td>https://doi.org/10.1201/9780429496639</td>\n",
       "      <td>* Introduction W.B. Arthur, S.N., Durlauf, and...</td>\n",
       "      <td>[]</td>\n",
       "      <td>2018</td>\n",
       "      <td>CRC Press eBooks</td>\n",
       "      <td>[]</td>\n",
       "      <td>['Complex Systems and Time Series Analysis', '...</td>\n",
       "    </tr>\n",
       "    <tr>\n",
       "      <th>2</th>\n",
       "      <td>https://openalex.org/W789578048</td>\n",
       "      <td>NaN</td>\n",
       "      <td>Leonel A. Laboissiere, Ricardo A. S. Fernandes...</td>\n",
       "      <td>Maximum and minimum stock price forecasting of...</td>\n",
       "      <td>NaN</td>\n",
       "      <td>NaN</td>\n",
       "      <td>https://doi.org/10.1016/j.asoc.2015.06.005</td>\n",
       "      <td>NaN</td>\n",
       "      <td>[]</td>\n",
       "      <td>2015</td>\n",
       "      <td>Applied Soft Computing</td>\n",
       "      <td>[{'id': 'https://openalex.org/keywords/stock',...</td>\n",
       "      <td>['Stock Market Forecasting Methods', 'Energy L...</td>\n",
       "    </tr>\n",
       "    <tr>\n",
       "      <th>3</th>\n",
       "      <td>https://openalex.org/W4321748146</td>\n",
       "      <td>NaN</td>\n",
       "      <td>Abhishek Aggarwal, Cheuk Chi Tam, Dezhi Wu, Xi...</td>\n",
       "      <td>Artificial Intelligence–Based Chatbots for Pro...</td>\n",
       "      <td>NaN</td>\n",
       "      <td>NaN</td>\n",
       "      <td>https://doi.org/10.2196/40789</td>\n",
       "      <td>Background Artificial intelligence (AI)–based ...</td>\n",
       "      <td>[]</td>\n",
       "      <td>2023</td>\n",
       "      <td>Journal of Medical Internet Research</td>\n",
       "      <td>[{'id': 'https://openalex.org/keywords/chatbot...</td>\n",
       "      <td>['Digital Mental Health Interventions', 'Mobil...</td>\n",
       "    </tr>\n",
       "    <tr>\n",
       "      <th>4</th>\n",
       "      <td>https://openalex.org/W2944828013</td>\n",
       "      <td>NaN</td>\n",
       "      <td>Christina A. Roberto, Hannah G. Lawman, Michae...</td>\n",
       "      <td>Association of a Beverage Tax on Sugar-Sweeten...</td>\n",
       "      <td>NaN</td>\n",
       "      <td>NaN</td>\n",
       "      <td>https://doi.org/10.1001/jama.2019.4249</td>\n",
       "      <td>Policy makers have implemented beverage taxes ...</td>\n",
       "      <td>[]</td>\n",
       "      <td>2019</td>\n",
       "      <td>JAMA</td>\n",
       "      <td>[{'id': 'https://openalex.org/keywords/fluid-o...</td>\n",
       "      <td>['Obesity, Physical Activity, Diet', 'Nutritio...</td>\n",
       "    </tr>\n",
       "  </tbody>\n",
       "</table>\n",
       "</div>"
      ],
      "text/plain": [
       "                                 id  submitter  \\\n",
       "0  https://openalex.org/W3034272367        NaN   \n",
       "1  https://openalex.org/W2141042444        NaN   \n",
       "2   https://openalex.org/W789578048        NaN   \n",
       "3  https://openalex.org/W4321748146        NaN   \n",
       "4  https://openalex.org/W2944828013        NaN   \n",
       "\n",
       "                                             authors  \\\n",
       "0  Ioannis Antonopoulos, Valentin Robu, Benoit Co...   \n",
       "1                                    W. Brian Arthur   \n",
       "2  Leonel A. Laboissiere, Ricardo A. S. Fernandes...   \n",
       "3  Abhishek Aggarwal, Cheuk Chi Tam, Dezhi Wu, Xi...   \n",
       "4  Christina A. Roberto, Hannah G. Lawman, Michae...   \n",
       "\n",
       "                                               title  comments  journ_ref  \\\n",
       "0  Artificial intelligence and machine learning a...       NaN        NaN   \n",
       "1       The Economy as an Evolving Complex System II       NaN        NaN   \n",
       "2  Maximum and minimum stock price forecasting of...       NaN        NaN   \n",
       "3  Artificial Intelligence–Based Chatbots for Pro...       NaN        NaN   \n",
       "4  Association of a Beverage Tax on Sugar-Sweeten...       NaN        NaN   \n",
       "\n",
       "                                          doi  \\\n",
       "0  https://doi.org/10.1016/j.rser.2020.109899   \n",
       "1       https://doi.org/10.1201/9780429496639   \n",
       "2  https://doi.org/10.1016/j.asoc.2015.06.005   \n",
       "3               https://doi.org/10.2196/40789   \n",
       "4      https://doi.org/10.1001/jama.2019.4249   \n",
       "\n",
       "                                            abstract versions  year  \\\n",
       "0  Recent years have seen an increasing interest ...       []  2020   \n",
       "1  * Introduction W.B. Arthur, S.N., Durlauf, and...       []  2018   \n",
       "2                                                NaN       []  2015   \n",
       "3  Background Artificial intelligence (AI)–based ...       []  2023   \n",
       "4  Policy makers have implemented beverage taxes ...       []  2019   \n",
       "\n",
       "                                    journal  \\\n",
       "0  Renewable and Sustainable Energy Reviews   \n",
       "1                          CRC Press eBooks   \n",
       "2                    Applied Soft Computing   \n",
       "3      Journal of Medical Internet Research   \n",
       "4                                      JAMA   \n",
       "\n",
       "                                            keywords  \\\n",
       "0                                                 []   \n",
       "1                                                 []   \n",
       "2  [{'id': 'https://openalex.org/keywords/stock',...   \n",
       "3  [{'id': 'https://openalex.org/keywords/chatbot...   \n",
       "4  [{'id': 'https://openalex.org/keywords/fluid-o...   \n",
       "\n",
       "                                              topics  \n",
       "0  ['Smart Grid Energy Management', 'Energy Effic...  \n",
       "1  ['Complex Systems and Time Series Analysis', '...  \n",
       "2  ['Stock Market Forecasting Methods', 'Energy L...  \n",
       "3  ['Digital Mental Health Interventions', 'Mobil...  \n",
       "4  ['Obesity, Physical Activity, Diet', 'Nutritio...  "
      ]
     },
     "metadata": {},
     "output_type": "display_data"
    }
   ],
   "source": [
    "# Inspect data \n",
    "display(df.head())"
   ]
  },
  {
   "cell_type": "code",
   "execution_count": 5,
   "metadata": {},
   "outputs": [
    {
     "name": "stdout",
     "output_type": "stream",
     "text": [
      "<class 'pandas.core.frame.DataFrame'>\n",
      "RangeIndex: 25 entries, 0 to 24\n",
      "Data columns (total 13 columns):\n",
      " #   Column     Non-Null Count  Dtype  \n",
      "---  ------     --------------  -----  \n",
      " 0   id         25 non-null     object \n",
      " 1   submitter  0 non-null      float64\n",
      " 2   authors    24 non-null     object \n",
      " 3   title      25 non-null     object \n",
      " 4   comments   0 non-null      float64\n",
      " 5   journ_ref  0 non-null      float64\n",
      " 6   doi        25 non-null     object \n",
      " 7   abstract   24 non-null     object \n",
      " 8   versions   25 non-null     object \n",
      " 9   year       25 non-null     int64  \n",
      " 10  journal    25 non-null     object \n",
      " 11  keywords   25 non-null     object \n",
      " 12  topics     25 non-null     object \n",
      "dtypes: float64(3), int64(1), object(9)\n",
      "memory usage: 2.7+ KB\n"
     ]
    },
    {
     "data": {
      "text/plain": [
       "None"
      ]
     },
     "metadata": {},
     "output_type": "display_data"
    }
   ],
   "source": [
    "display(df.info())"
   ]
  },
  {
   "cell_type": "code",
   "execution_count": 6,
   "metadata": {},
   "outputs": [
    {
     "name": "stdout",
     "output_type": "stream",
     "text": [
      "id            0\n",
      "submitter    25\n",
      "authors       1\n",
      "title         0\n",
      "comments     25\n",
      "journ_ref    25\n",
      "doi           0\n",
      "abstract      1\n",
      "versions      0\n",
      "year          0\n",
      "journal       0\n",
      "keywords      0\n",
      "topics        0\n",
      "dtype: int64\n"
     ]
    }
   ],
   "source": [
    "# Get count of missing values\n",
    "print(df.isnull().sum())"
   ]
  },
  {
   "cell_type": "code",
   "execution_count": 7,
   "metadata": {},
   "outputs": [],
   "source": [
    "# Fill NA \n",
    "df['abstract'] = df['abstract'].fillna(\"\")\n",
    "df['submitter'] = df['submitter'].fillna(\"\")\n",
    "df['authors'] = df['authors'].fillna(\"\")\n",
    "df['comments'] = df['comments'].fillna(\"\")\n",
    "df['journ_ref'] = df['journ_ref'].fillna(\"\")\n"
   ]
  },
  {
   "cell_type": "code",
   "execution_count": 14,
   "metadata": {},
   "outputs": [
    {
     "name": "stdout",
     "output_type": "stream",
     "text": [
      "id           0\n",
      "submitter    0\n",
      "authors      0\n",
      "title        0\n",
      "comments     0\n",
      "journ_ref    0\n",
      "doi          0\n",
      "abstract     0\n",
      "versions     0\n",
      "year         0\n",
      "journal      0\n",
      "keywords     0\n",
      "topics       0\n",
      "dtype: int64\n"
     ]
    }
   ],
   "source": [
    "# Get count of missing values\n",
    "print(df.isnull().sum())"
   ]
  },
  {
   "cell_type": "markdown",
   "metadata": {},
   "source": [
    "I'm not a hundred percent sure if it could be possible that the articles with NA somewhere are now seen to be correlated. "
   ]
  },
  {
   "cell_type": "code",
   "execution_count": 13,
   "metadata": {},
   "outputs": [
    {
     "name": "stdout",
     "output_type": "stream",
     "text": [
      "Top 3 similar articles for the first article:\n",
      "                                                title  year\n",
      "14  Artificial Intelligence Enabled Demand Respons...  2022\n",
      "9   Retail Electricity Pricing Strategy via an Art...  2020\n",
      "19  Artificial intelligence in agricultural value ...  2021\n"
     ]
    }
   ],
   "source": [
    "# Preprocess \n",
    "df['abstract'] = df['abstract'].fillna(\"\")\n",
    "\n",
    "# Create a TF-IDF matrix from abstracts\n",
    "vectorizer = TfidfVectorizer(stop_words='english')\n",
    "tfidf_matrix = vectorizer.fit_transform(df['abstract'])\n",
    "\n",
    "# Compute cosine similarity between articles\n",
    "cosine_sim = cosine_similarity(tfidf_matrix, tfidf_matrix)\n",
    "\n",
    "# Example: Find top 3 similar articles for the first article\n",
    "import numpy as np\n",
    "similar_indices = np.argsort(cosine_sim[0])[::-1][1:4]  # skip self (index 0)\n",
    "print(\"Top 3 similar articles for the first article:\")\n",
    "print(df.iloc[similar_indices][['title', 'year']])\n"
   ]
  }
 ],
 "metadata": {
  "kernelspec": {
   "display_name": "Python 3",
   "language": "python",
   "name": "python3"
  },
  "language_info": {
   "codemirror_mode": {
    "name": "ipython",
    "version": 3
   },
   "file_extension": ".py",
   "mimetype": "text/x-python",
   "name": "python",
   "nbconvert_exporter": "python",
   "pygments_lexer": "ipython3",
   "version": "3.11.2"
  }
 },
 "nbformat": 4,
 "nbformat_minor": 2
}
