{
 "cells": [
  {
   "cell_type": "markdown",
   "metadata": {},
   "source": [
    "# Recommender system implementation "
   ]
  },
  {
   "cell_type": "code",
   "execution_count": 6,
   "metadata": {},
   "outputs": [
    {
     "data": {
      "application/vnd.jupyter.widget-view+json": {
       "model_id": "c88ab1bd7074492e81b7e67af1ec97b4",
       "version_major": 2,
       "version_minor": 0
      },
      "text/plain": [
       "Batches:   0%|          | 0/30 [00:00<?, ?it/s]"
      ]
     },
     "metadata": {},
     "output_type": "display_data"
    },
    {
     "name": "stderr",
     "output_type": "stream",
     "text": [
      "2025-04-02 18:17:12,130 - BERTopic - Predicting topic assignments through cosine similarity of topic and document embeddings.\n"
     ]
    },
    {
     "data": {
      "application/vnd.jupyter.widget-view+json": {
       "model_id": "2c8eb56f5bbc414da92d1ee5a311347b",
       "version_major": 2,
       "version_minor": 0
      },
      "text/plain": [
       "Batches:   0%|          | 0/30 [00:00<?, ?it/s]"
      ]
     },
     "metadata": {},
     "output_type": "display_data"
    }
   ],
   "source": [
    "# Import libraries\n",
    "import pandas as pd\n",
    "from sklearn.feature_extraction.text import TfidfVectorizer\n",
    "from sklearn.metrics.pairwise import cosine_similarity\n",
    "import json\n",
    "from bertopic import BERTopic\n",
    "from sklearn.metrics.pairwise import cosine_similarity\n",
    "from sentence_transformers import SentenceTransformer, util\n",
    "import numpy as np\n",
    "\n",
    "# Path to my json file with the openalex results (1000 papers)\n",
    "json_path = \"/Users/dionnespaltman/Desktop/Luiss /Data Science in Action/Project/openalex_results_clean.json\"\n",
    "\n",
    "# Open and load the JSON data\n",
    "with open(json_path, 'r') as f:\n",
    "    data = json.load(f)\n",
    "\n",
    "# Convert to DataFrame \n",
    "df = pd.DataFrame(data)\n",
    "df_clean = df[df['abstract'].notna()].copy()\n",
    "docs = (df_clean['title'] + \". \" + df_clean['abstract']).tolist()\n",
    "\n",
    "# Topic modeling\n",
    "topic_model = BERTopic.load(\"MaartenGr/BERTopic_Wikipedia\")\n",
    "topics, probs = topic_model.transform(docs)\n",
    "\n",
    "df_clean['topic_id'] = topics\n",
    "df_clean['topic_label'] = df_clean['topic_id'].apply(\n",
    "    lambda x: topic_model.topic_labels_[x] if x != -1 and x < len(topic_model.topic_labels_) else \"Unknown\"\n",
    ")\n",
    "\n",
    "# Embedding\n",
    "embedding_model = SentenceTransformer('all-MiniLM-L6-v2')\n",
    "embeddings = embedding_model.encode(docs, show_progress_bar=True)\n",
    "df_clean['embedding'] = list(embeddings)\n",
    "\n",
    "# Finalize main paper DataFrame\n",
    "papers_df = df_clean.copy()\n",
    "paper_embeddings = np.vstack(papers_df['embedding'].values)\n"
   ]
  },
  {
   "cell_type": "code",
   "execution_count": 17,
   "metadata": {},
   "outputs": [],
   "source": [
    "def recommend_similar_papers_from_query(query_text, top_k=5, boost_topic=True):\n",
    "    # Get query embedding \n",
    "    query_embedding = embedding_model.encode(query_text, convert_to_tensor=True)\n",
    "\n",
    "    # Get the cosine scores \n",
    "    cosine_scores = util.pytorch_cos_sim(query_embedding, paper_embeddings)[0].cpu().numpy()\n",
    "\n",
    "    # Get the predicted topic for the query\n",
    "    if boost_topic:\n",
    "        query_topic, _ = topic_model.transform([query_text])\n",
    "        topic_boost_mask = (papers_df['topic_id'] == query_topic[0]).values.astype(float)\n",
    "        cosine_scores += 0.05 * topic_boost_mask  # Boost same-topic papers slightly\n",
    "    \n",
    "    # Get the top results \n",
    "    top_results = np.argsort(-cosine_scores)[:top_k]\n",
    "\n",
    "    # And print them \n",
    "    for idx in top_results:\n",
    "        print(f\"Title: {papers_df.iloc[idx]['title']}\")\n",
    "        print(f\"Score: {cosine_scores[idx]:.4f}\")\n",
    "        print(f\"Topic: {papers_df.iloc[idx]['topic_label']}\")\n",
    "        print(f\"Abstract: {papers_df.iloc[idx]['abstract']}\\n\")\n",
    "\n",
    "\n"
   ]
  },
  {
   "cell_type": "code",
   "execution_count": null,
   "metadata": {},
   "outputs": [
    {
     "data": {
      "application/vnd.jupyter.widget-view+json": {
       "model_id": "5dcb1d93b00c487594856a4ef171f242",
       "version_major": 2,
       "version_minor": 0
      },
      "text/plain": [
       "Batches:   0%|          | 0/1 [00:00<?, ?it/s]"
      ]
     },
     "metadata": {},
     "output_type": "display_data"
    },
    {
     "name": "stderr",
     "output_type": "stream",
     "text": [
      "2025-04-02 18:22:20,496 - BERTopic - Predicting topic assignments through cosine similarity of topic and document embeddings.\n"
     ]
    },
    {
     "name": "stdout",
     "output_type": "stream",
     "text": [
      "Title: Dynamic Pricing Model of E-Commerce Platforms Based on Deep Reinforcement Learning\n",
      "Score: 0.7884\n",
      "Topic: 1821_commerce_retailers_shopping_retailing\n",
      "Abstract: With the continuous development of artificial intelligence technology, its application field has gradually expanded. To further apply the deep reinforcement learning technology to the field of dynamic pricing, we build an intelligent dynamic pricing system, introduce the reinforcement learning technology related to dynamic pricing, and introduce existing research on the number of suppliers (single supplier and multiple suppliers), environmental models, and selection algorithms. A two-period dynamic pricing game model is designed to assess the optimal pricing strategy for e-commerce platforms under two market conditions and two consumer participation conditions. The first step is to analyze the pricing strategies of e-commerce platforms in mature markets, analyze the optimal pricing and profits of various enterprises under different strategy combinations, compare different market equilibriums and solve the Nash equilibrium. Then, assuming that all consumers are naive in the market, the pricing strategy of the duopoly e-commerce platform in emerging markets is analyzed. By comparing and analyzing the optimal pricing and total profit of each enterprise under different strategy combinations, the subgame refined Nash equilibrium is solved. Finally, assuming that the market includes all experienced consumers, the pricing strategy of the duopoly e-commerce platform in emerging markets is analyzed.\n",
      "\n",
      "Title: Machine Learning for Dynamic Pricing in e-Commerce\n",
      "Score: 0.7383\n",
      "Topic: 1821_commerce_retailers_shopping_retailing\n",
      "Abstract: Dynamic pricing is a long-term pricing model that can increase the conversion rates of your e-commerce store.You can use A.I applications to offer different prices for the same product to different customers, depending on unique personal factors.Advanced applications should take into account many other factors, such as the prices charged by competitors that buyers have previously sponsored, the current demand for the product, cross-price elasticity, halo ratios, and so on.Some AI-based dynamic pricing models can also implement in-depth learning capabilities to deduce the prices that each customer will be willing to pay for a product or service at some point.\n",
      "\n",
      "Title: Machine Learning-driven Dynamic Pricing Strategies in E-Commerce\n",
      "Score: 0.6799\n",
      "Topic: 1821_commerce_retailers_shopping_retailing\n",
      "Abstract: Dynamic pricing, the practice of adjusting prices in real-time based on various factors, has gained significant attention in the e-commerce industry. This paper presents a study on dynamic pricing using machine learning techniques to develop an accurate and effective pricing model. The study utilizes historical transaction data from an e-commerce platform and applies feature engineering and model selection to identify the most suitable machine learning algorithm. Gradient Boosting Machines (GBM) emerges as the primary model due to its ability to capture complex relationships and provide accurate predictions. The GBM model is trained and tuned using hyperparameter optimization techniques, and its performance is evaluated using Mean Squared Error (MSE) and R-squared (R2) score. The results demonstrate the superior performance of the GBM model compared to other algorithms, achieving a low MSE of 0.012 and a high R2 score of 0.92 on the validation set. The findings highlight the potential of machine learning in optimizing revenue and enhancing customer satisfaction through personalized pricing strategies.\n",
      "\n",
      "Title: Optimizing E-Commerce Profits: A Comprehensive Machine Learning Framework for Dynamic Pricing and Predicting Online Purchases\n",
      "Score: 0.6773\n",
      "Topic: 1821_commerce_retailers_shopping_retailing\n",
      "Abstract: In the online realm, pricing transparency is crucial in influencing consumer decisions and driving online purchases. While dynamic pricing is not a novel concept and is widely employed to boost sales and profit margins, its significance for online retailers is substantial. The current study is an outcome of an ongoing project that aims to construct a comprehensive framework and deploy effective techniques, leveraging robust machine learning algorithms. The objective is to optimize the pricing strategy on e-commerce platforms, emphasizing the importance of selecting the right purchase price rather than merely offering the cheapest option. Although the study primarily targets inventory-led e-commerce companies, the model's applicability can be extended to online marketplaces that operate without maintaining inventories. The study endeavors to forecast purchase decisions based on adaptive or dynamic pricing strategies for individual products by integrating statistical and machine learning models. Various data sources capturing visit attributes, visitor details, purchase history, web data, and contextual insights form the robust foundation for this framework. Notably, the study specifically emphasizes predicting purchases within customer segments rather than focusing on individual buyers. The logical progression of this research involves the personalization of adaptive pricing and purchase prediction, with future extensions planned once the outcomes of the current study are presented. The solution landscape for this study encompasses web mining, big data technologies, and the implementation of machine learning algorithms.\n",
      "\n",
      "Title: An efficient novel approach to E-commerce retail price optimization through machine learning\n",
      "Score: 0.6604\n",
      "Topic: 1821_commerce_retailers_shopping_retailing\n",
      "Abstract: Businesses can use price optimization to discover the most profitable price point by using customer and market data to drive their decisions. The optimal price points will result in the company making the most money possible, but they may also be created to help the company expand into untapped markets or increase its market share, for example Businesses can use machine learning to price products and services to maximise sales or profitability by using data instead of educated guess-work. When utilised for price optimization, ML-based algorithms can be used to forecast demand for a particular product as well as the ideal price and how buyers will respond to specific pricing. Pricing decisions can be made more accurately using machine learning, which will boost a company's revenue.\n",
      "\n"
     ]
    }
   ],
   "source": [
    "# Define your query\n",
    "QUERY = \"Reinforcement learning for automated pricing in e-commerce\"\n",
    "\n",
    "# Get recommendations\n",
    "recommend_similar_papers_from_query(query_text=query, top_k=5)\n",
    "\n",
    "\n",
    "\n"
   ]
  },
  {
   "cell_type": "code",
   "execution_count": null,
   "metadata": {},
   "outputs": [
    {
     "data": {
      "application/vnd.jupyter.widget-view+json": {
       "model_id": "1f00285e92ea4380877ed4b4abca000a",
       "version_major": 2,
       "version_minor": 0
      },
      "text/plain": [
       "Batches:   0%|          | 0/1 [00:00<?, ?it/s]"
      ]
     },
     "metadata": {},
     "output_type": "display_data"
    },
    {
     "name": "stderr",
     "output_type": "stream",
     "text": [
      "2025-04-02 18:22:26,148 - BERTopic - Predicting topic assignments through cosine similarity of topic and document embeddings.\n"
     ]
    },
    {
     "name": "stdout",
     "output_type": "stream",
     "text": [
      "Title: Hyper-Personalization\n",
      "Score: 0.6606\n",
      "Topic: 1250_marketing_advertising_market_consumers\n",
      "Abstract: Personalization is widely used to attract and retain customers in online business addressing one size fits all issues, but little is addressed to contextualise users' real-time needs. E-commerce website owners use these strategies for customer-centric marketing through enhanced experience but fail in designing effective personalization due to the dynamic nature of users' needs and pace of information exposure. To address this, this chapter explores hyper-personalization strategies to overcome users' implicit need to be served better. The research presents a hyper-personalization process with learning (ML) and artificial intelligence (AI) techniques for marketing functions like segmentation, targeting, and positioning based on real-time analytics throughout the customer journey and key factors driving effective customer-centric marketing. This chapter facilitates marketers to use AI-enabled personalization to address customers' implicit needs and leverage higher returns by delivering the right information at the right time to the right customer through the right channel.\n",
      "\n",
      "Title: An Integrated Framework to Recommend Personalized Retention Actions to Control B2C E-Commerce Customer Churn\n",
      "Score: 0.6350\n",
      "Topic: 2330_customers_marketing_customer_consumers\n",
      "Abstract: Considering the level of competition prevailing in Business-to-Consumer (B2C) E-Commerce domain and the huge investments required to attract new customers, firms are now giving more focus to reduce their customer churn rate. Churn rate is the ratio of customers who part away with the firm in a specific time period. One of the best mechanism to retain current customers is to identify any potential churn and respond fast to prevent it. Detecting early signs of a potential churn, recognizing what the customer is looking for by the movement and automating personalized win back campaigns are essential to sustain business in this era of competition. E-Commerce firms normally possess large volume of data pertaining to their existing customers like transaction history, search history, periodicity of purchases, etc. Data mining techniques can be applied to analyse customer behaviour and to predict the potential customer attrition so that special marketing strategies can be adopted to retain them. This paper proposes an integrated model that can predict customer churn and also recommend personalized win back actions.\n",
      "\n",
      "Title: Data Mining as Support to Knowledge Management in Marketing\n",
      "Score: 0.6322\n",
      "Topic: 1250_marketing_advertising_market_consumers\n",
      "Abstract: Abstract Background: Previous research has shown success of data mining methods in marketing. However, their integration in a knowledge management system is still not investigated enough. Objectives : The purpose of this paper is to suggest an integration of two data mining techniques: neural networks and association rules in marketing modeling that could serve as an input to knowledge management and produce better marketing decisions. Methods/Approach: Association rules and artificial neural networks are combined in a data mining component to discover patterns and customers’ profiles in frequent item purchases. The results of data mining are used in a web-based knowledge management component to trigger ideas for new marketing strategies. The model is tested by an experimental research. Results: The results show that the suggested model could be efficiently used to recognize patterns in shopping behaviour and generate new marketing strategies. Conclusions: The scientific contribution lies in proposing an integrative data mining approach that could present support to knowledge management. The research could be useful to marketing and retail managers in improving the process of their decision making, as well as to researchers in the area of marketing modelling. Future studies should include more samples and other data mining techniques in order to test the model generalization ability.\n",
      "\n",
      "Title: Overview of Machine Learning in Retail\n",
      "Score: 0.6083\n",
      "Topic: 1250_marketing_advertising_market_consumers\n",
      "Abstract: At a data science conference in Bangalore a few years back, I was approached by a prospective client from the retail industry. He had a clear goal for data science to help their company increase their retail business. The current team was not able to get a breakthrough and was looking for someone experienced to guide them. The client informed me that the retail industry was undergoing a change, with e-commerce portals disrupting the way sales used to happen. He explained that his company had lost nearly 25 percent of the market in the last 3 years to online retailers like Flipkart, Amazon, and Bigbasket. The trend did not look healthy and he wanted to know if it was possible to use targeted marketing through machine learning to boost sales.\n",
      "\n",
      "Title: Conversion Uplift in E-Commerce: A Systematic Benchmark of Modeling Strategies\n",
      "Score: 0.6066\n",
      "Topic: 1250_marketing_advertising_market_consumers\n",
      "Abstract: Uplift modeling combines machine learning and experimental strategies to estimate the differential effect of a treatment on individuals’ behavior. The paper considers uplift models in the scope of marketing campaign targeting. Literature on uplift modeling strategies is fragmented across academic disciplines and lacks an overarching empirical comparison. Using data from online retailers, we fill this gap and contribute to literature through consolidating prior work on uplift modeling and systematically comparing the predictive performance and utility of available uplift modeling strategies. Our empirical study includes three experiments in which we examine the interaction between an uplift modeling strategy and the underlying machine learning algorithm to implement the strategy, quantify model performance in terms of business value and demonstrate the advantages of uplift models over response models, which are widely used in marketing. The results facilitate making specific recommendations how to deploy uplift models in e-commerce applications.\n",
      "\n"
     ]
    }
   ],
   "source": [
    "QUERY = \"Effectiveness of personalized promotion strategies using customer data\"\n",
    "recommend_similar_papers_from_query(query_text=query, top_k=5)\n",
    "\n",
    "\n"
   ]
  },
  {
   "cell_type": "code",
   "execution_count": null,
   "metadata": {},
   "outputs": [
    {
     "data": {
      "application/vnd.jupyter.widget-view+json": {
       "model_id": "6434004c1c434417ae02a7f83a67f4e6",
       "version_major": 2,
       "version_minor": 0
      },
      "text/plain": [
       "Batches:   0%|          | 0/1 [00:00<?, ?it/s]"
      ]
     },
     "metadata": {},
     "output_type": "display_data"
    },
    {
     "name": "stderr",
     "output_type": "stream",
     "text": [
      "2025-04-02 18:22:34,215 - BERTopic - Predicting topic assignments through cosine similarity of topic and document embeddings.\n"
     ]
    },
    {
     "name": "stdout",
     "output_type": "stream",
     "text": [
      "Title: Research on Chinese Consumers’ Attitudes Analysis of Big-Data Driven Price Discrimination Based on Machine Learning\n",
      "Score: 0.6003\n",
      "Topic: 1250_marketing_advertising_market_consumers\n",
      "Abstract: From the end of 2018 in China, the Big-data Driven Price Discrimination (BDPD) of online consumption raised public debate on social media. To study the consumers' attitude about the BDPD, this study constructed a semantic recognition frame to deconstruct the Affection-Behavior-Cognition (ABC) consumer attitude theory using machine learning models inclusive of the Labeled Latent Dirichlet Allocation (LDA), Long Short-Term Memory (LSTM), and Snow Natural Language Processing (NLP), based on social media comments text dataset. Similar to the questionnaires published results, this article verified that 61% of consumers expressed negative sentiment toward BDPD in general. Differently, on a finer scale, this study further measured the negative sentiments that differ significantly among different topics. The measurement results show that the topics \"Regular Customers Priced High\" (69%) and \"Usage Intention\" (67%) occupy the top two places of negative sentiment among consumers, and the topic \"Precision Marketing\" (42%) is at the bottom. Moreover, semantic recognition results that 49% of consumers' comments involve multiple topics, indicating that consumers have a pretty clear cognition of the complex status of the BDPD. Importantly, this study found some topics that had not been focused on in previous studies, such as more than 8% of consumers calling for government and legal departments to regulate BDPD behavior, which indicates that quite enough consumers are losing confidence in the self-discipline of the platform enterprises. Another interesting result is that consumers who pursue solutions to the BDPD belong to two mutually exclusive groups: government protection and self-protection. The significance of this study is that it reminds the e-commerce platforms to pay attention to the potential harm for consumers' psychology while bringing additional profits through the BDPD. Otherwise, the negative consumer attitudes may cause damage to brand image, business reputation, and the sustainable development of the platforms themselves. It also provides the government supervision departments an advanced analysis method reference for more effective administration to protect social fairness.\n",
      "\n",
      "Title: An integrated approach for modern supply chain management: Utilizing advanced machine learning models for sentiment analysis, demand forecasting, and probabilistic price prediction\n",
      "Score: 0.5874\n",
      "Topic: 1164_retailers_retailer_retailing_retail\n",
      "Abstract: In the contemporary business landscape, effective interpretation of customer sentiment, accurate demand forecasting, and precise price prediction are pivotal in making strategic decisions and efficiently allocating resources. Harnessing the vast array of data available from social media and online platforms, this paper presents an integrative approach employing machine learning, deep learning, and probabilistic models. Our methodology leverages the BERT transformer model for customer sentiment analysis, the Gated Recurrent Unit (GRU) model for demand forecasting, and the Bayesian Network for price prediction. These state-of-the-art techniques are adept at managing large-scale, high-dimensional data and uncovering hidden patterns, surpassing traditional statistical methods in performance. By bridging these diverse models, we aim to furnish businesses with a comprehensive understanding of their customer base and market dynamics, thus equipping them with insights to make informed decisions, optimize pricing strategies, and manage supply chain uncertainties effectively. The results demonstrate the strengths and areas for improvement of each model, ultimately presenting a robust and holistic approach to tackling the complex challenges of modern supply chain management.\n",
      "\n",
      "Title: Incorporating Deep Learning and News Topic Modeling for Forecasting Pork Prices: The Case of South Korea\n",
      "Score: 0.5737\n",
      "Topic: 1164_retailers_retailer_retailing_retail\n",
      "Abstract: Knowing the prices of agricultural commodities in advance can provide governments, farmers, and consumers with various advantages, including a clearer understanding of the market, planning business strategies, and adjusting personal finances. Thus, there have been many efforts to predict the future prices of agricultural commodities in the past. For example, researchers have attempted to predict prices by extracting price quotes, using sentiment analysis algorithms, through statistical information from news stories, and by other means. In this paper, we propose a methodology that predicts the daily retail price of pork in the South Korean domestic market based on news articles by incorporating deep learning and topic modeling techniques. To do this, we utilized news articles and retail price data from 2010 to 2019. We initially applied a topic modeling technique to obtain relevant keywords that can express price fluctuations. Based on these keywords, we constructed prediction models using statistical, machine learning, and deep learning methods. The experimental results show that there is a strong relationship between the meaning of news articles and the price of pork.\n",
      "\n",
      "Title: Marketing and Management of Innovations\n",
      "Score: 0.5414\n",
      "Topic: 260_inflation_inflationary_macroeconomics_macroeconomic\n",
      "Abstract: Romania faced the highest inflation rate in the European Union at the beginning of 2024, but progress has been made compared to that in 2023 due to the increasing interest rate.This inflation stemmed from a combination of global and domestic factors (global factors such as the Russia-Ukraine war, supply chain disruptions caused by the COVID-19 pandemic and war, rising commodity prices, domestic factors such as wage and pension increases, tax and charge hikes, and a strategy of gradual increase in the monetary policy interest rate).The National Bank of Romania (NBR) uses a combination of monetary policy instruments to target inflation and provides quarterly forecasts.However, under uncertain conditions, numerical forecasts are less reliable, and the inclusion of sentiment analysis in forecasts might lead to innovation in the field by improving the prediction accuracy.Sentiment analysis has become increasingly important in the field of economics, offering valuable insights and potentially improving economic forecasting and decision-making due to rapid technological progress.Sentiment analysis can identify potential changes in consumer behaviour and business decisions before they are translated into actual economic data, providing an early warning system for economic trends and potential crises.The methodological background relies on natural language processing to extract sentiment indices for large amounts of texts in Inflation Reports provided by NBR.Moreover, the sentiment indices calculated by IntelliDocker are incorporated into autoregressive distributed lag (ARDL) models to provide quarterly inflation forecasts.This type of econometric model has the advantage of addressing endogeneity.Moreover, the unemployment rate is considered an inflation predictor since tensions in the labour market might impact inflation.This paper contributes to empirical forecasting by proposing sentiment forecasts that are more accurate than NBR numerical forecasts corresponding to the 2006: Q1-2023: Q4 horizon.The new forecasting method might be used to make inflation predictions for the next quarters.More accurate forecasts would be valuable for businesses, the central bank, policymakers, and the general public.However, while sentiment analysis offers valuable insights, it is important to remember that human judgment and expertise remain essential for interpreting the data and making informed economic decisions.\n",
      "\n",
      "Title: Retail price analytics using backpropogation neural network and sentimental analysis\n",
      "Score: 0.5404\n",
      "Topic: 1250_marketing_advertising_market_consumers\n",
      "Abstract: One of the most important aspects of the marketing is to determine what price is to be fixed to sell your products. Pricing is both an art and science that requires an experimental and statistical formula for creating a profile for the brand and the product in the market. There are minimalistic approaches used for pricing the products and to consider what will work for your business. Neural networks are a computational approach which is more promising in making a better decision among large volume of data. Combination of Machine learning with neural networks forms a new dimension in decision making. Though, it provides more accuracy than regression techniques, they aren't able to keep up with the dynamic growth of the data. Thus, an additional technique is required to handle this dynamic growth. Henceforth, sentimental analysis and Neural networks are combined together in order to provide better precision in decision making. Here, Back propagation neural network classification algorithm is used to classify the data. This approach would be more efficient in decision making in perspective of selling the products.\n",
      "\n"
     ]
    }
   ],
   "source": [
    "QUERY = \"Natural language processing for sentiment-driven pricing strategies\"\n",
    "recommend_similar_papers_from_query(query_text=query, top_k=5)\n"
   ]
  }
 ],
 "metadata": {
  "kernelspec": {
   "display_name": "base",
   "language": "python",
   "name": "python3"
  },
  "language_info": {
   "codemirror_mode": {
    "name": "ipython",
    "version": 3
   },
   "file_extension": ".py",
   "mimetype": "text/x-python",
   "name": "python",
   "nbconvert_exporter": "python",
   "pygments_lexer": "ipython3",
   "version": "3.10.9"
  }
 },
 "nbformat": 4,
 "nbformat_minor": 2
}
